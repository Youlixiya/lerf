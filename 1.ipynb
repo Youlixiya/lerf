{
 "cells": [
  {
   "cell_type": "code",
   "execution_count": 23,
   "metadata": {},
   "outputs": [],
   "source": [
    "import os\n",
    "scene = 'room'\n",
    "image_names = os.listdir(f'data/ovs3d/{scene}/images_4')\n",
    "test_names = os.listdir(f'data/ovs3d/{scene}/segmentations')\n",
    "train_names = []\n",
    "val_names = []\n",
    "for name in image_names:\n",
    "    if name.split('.')[0] in test_names:\n",
    "        val_names.append(name)\n",
    "    else:\n",
    "        train_names.append(name)"
   ]
  },
  {
   "cell_type": "code",
   "execution_count": 24,
   "metadata": {},
   "outputs": [
    {
     "data": {
      "text/plain": [
       "['00.jpg', '19.jpg', '30.jpg', '04.jpg', '25.jpg']"
      ]
     },
     "execution_count": 24,
     "metadata": {},
     "output_type": "execute_result"
    }
   ],
   "source": [
    "val_names"
   ]
  },
  {
   "cell_type": "code",
   "execution_count": 25,
   "metadata": {},
   "outputs": [],
   "source": [
    "with open(f'data/ovs3d/{scene}/train_list.txt', 'w') as f:\n",
    "    for name in train_names:\n",
    "        f.write(f'{name}\\n')"
   ]
  },
  {
   "cell_type": "code",
   "execution_count": 26,
   "metadata": {},
   "outputs": [],
   "source": [
    "with open(f'data/ovs3d/{scene}/test_list.txt', 'w') as f:\n",
    "    for name in val_names:\n",
    "        f.write(f'{name}\\n')"
   ]
  },
  {
   "cell_type": "code",
   "execution_count": 22,
   "metadata": {},
   "outputs": [],
   "source": [
    "with open(f'data/ovs3d/{scene}/val_list.txt', 'w') as f:\n",
    "    for name in val_names:\n",
    "        f.write(f'{name}\\n')"
   ]
  },
  {
   "cell_type": "code",
   "execution_count": 6,
   "metadata": {},
   "outputs": [
    {
     "name": "stdout",
     "output_type": "stream",
     "text": [
      "(997, 748)\n",
      "(997, 748)\n",
      "(997, 748)\n",
      "(997, 748)\n",
      "(997, 748)\n",
      "(997, 748)\n",
      "(997, 748)\n",
      "(997, 748)\n",
      "(997, 748)\n",
      "(997, 748)\n",
      "(997, 748)\n",
      "(997, 748)\n",
      "(997, 748)\n",
      "(997, 748)\n",
      "(997, 748)\n",
      "(997, 748)\n",
      "(997, 748)\n",
      "(997, 748)\n",
      "(997, 748)\n",
      "(997, 748)\n",
      "(997, 748)\n",
      "(997, 748)\n",
      "(997, 748)\n",
      "(997, 748)\n",
      "(997, 748)\n",
      "(997, 748)\n",
      "(997, 748)\n",
      "(997, 748)\n",
      "(997, 748)\n",
      "(997, 748)\n",
      "(997, 748)\n"
     ]
    }
   ],
   "source": [
    "import os\n",
    "from PIL import Image\n",
    "\n",
    "data_root = 'data/ovs3d/room/images_4 copy'\n",
    "save_root = 'data/ovs3d/room/images_4'\n",
    "new_width = 3989 //4\n",
    "new_height = 2992 //4\n",
    "image_names = os.listdir(data_root)\n",
    "image_paths = [os.path.join(data_root, image_name) for image_name in image_names]\n",
    "\n",
    "for i in range(len(image_names)):\n",
    "    image_name = image_names[i]\n",
    "    image = Image.open(image_paths[i]).resize((new_width, new_height))\n",
    "    image.save(os.path.join(save_root, image_name))\n",
    "    print(image.size)"
   ]
  },
  {
   "cell_type": "code",
   "execution_count": null,
   "metadata": {},
   "outputs": [],
   "source": []
  },
  {
   "cell_type": "code",
   "execution_count": null,
   "metadata": {},
   "outputs": [],
   "source": []
  },
  {
   "cell_type": "code",
   "execution_count": 5,
   "metadata": {},
   "outputs": [],
   "source": [
    "\n"
   ]
  }
 ],
 "metadata": {
  "kernelspec": {
   "display_name": "lerf_wzj",
   "language": "python",
   "name": "python3"
  },
  "language_info": {
   "codemirror_mode": {
    "name": "ipython",
    "version": 3
   },
   "file_extension": ".py",
   "mimetype": "text/x-python",
   "name": "python",
   "nbconvert_exporter": "python",
   "pygments_lexer": "ipython3",
   "version": "3.8.18"
  }
 },
 "nbformat": 4,
 "nbformat_minor": 2
}
